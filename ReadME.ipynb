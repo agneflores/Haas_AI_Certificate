{
 "cells": [
  {
   "cell_type": "markdown",
   "id": "a105e342",
   "metadata": {},
   "source": [
    "# Will a Customer Accept the Coupon?\n",
    "\n",
    "## Context\n",
    "\n",
    "Imagine driving through town and a coupon is delivered to your cell phone for a restaraunt near where you are driving. Would you accept that coupon and take a short detour to the restaraunt? Would you accept the coupon but use it on a sunbsequent trip? Would you ignore the coupon entirely? What if the coupon was for a bar instead of a restaraunt? What about a coffee house? Would you accept a bar coupon with a minor passenger in the car? What about if it was just you and your partner in the car? Would weather impact the rate of acceptance? What about the time of day?\n",
    "\n",
    "Obviously, proximity to the business is a factor on whether the coupon is delivered to the driver or not, but what are the factors that determine whether a driver accepts the coupon once it is delivered to them? How would you determine whether a driver is likely to accept a coupon?"
   ]
  },
  {
   "cell_type": "markdown",
   "id": "a3204ed1",
   "metadata": {},
   "source": [
    "## Overview\n",
    "\n",
    "The goal of this project is to distinguish between customers who accepted a driving coupon and those who did not, specifically focusing on the characteristics of the drivers who accepted bar and coffee house coupons.The insights derived from this analysis will help tailor coupon marketing strategies and improve customer engagement."
   ]
  },
  {
   "cell_type": "markdown",
   "id": "64aff7d2",
   "metadata": {},
   "source": [
    "## Table of Contents\n",
    "\n",
    "Project Overview\n",
    "\n",
    "Data Description\n",
    "\n",
    "Requirements\n",
    "\n",
    "Installation\n",
    "\n",
    "Usage\n",
    "\n",
    "Executive Summary: Coffee House Coupons\n",
    "\n",
    "Executive Summary: Bar Coupons\n",
    "\n",
    "Contributing\n",
    "\n",
    "License\n",
    "\n",
    "Contact\n"
   ]
  },
  {
   "cell_type": "markdown",
   "id": "2e20ead7",
   "metadata": {},
   "source": [
    "## Data Description\n",
    "\n",
    "\n",
    "The data is sourced from the UCI Machine Learning repository and gathered through a survey conducted on Amazon Mechanical Turk. The survey encompasses various driving scenarios, such as destination, current time, weather, and passengers, and asks respondents if they would accept a coupon as a driver. Responses indicating immediate or near-future acceptance are labeled as 'Y = 1,' while responses indicating refusal are labeled as 'Y = 0.' The coupons offered include options for less expensive restaurants (under $20), coffee houses, carry out & take away, bars, and more expensive restaurants ($20 - $50).\n",
    "\n",
    "\n",
    "Keep in mind that these values mentioned below are average values.\n",
    "\n",
    "#### The attributes of this data set include:\n",
    "\n",
    "#### User attributes\n",
    "\n",
    "Gender: male, female\n",
    "\n",
    "Age: below 21, 21 to 25, 26 to 30, etc.\n",
    "\n",
    "Marital Status: single, married partner, unmarried partner, or widowed\n",
    "\n",
    "Number of children: 0, 1, or more than 1\n",
    "\n",
    "Education: high school, bachelors degree, associates degree, or graduate degree\n",
    "\n",
    "Occupation: architecture & engineering, business & financial, etc.\n",
    "\n",
    "Annual income: less than $12500, $12500 - $24999, $25000 - $37499, etc.\n",
    "\n",
    "Number of times that he/she goes to a bar: 0, less than 1, 1 to 3, 4 to 8 or greater than 8\n",
    "\n",
    "Number of times that he/she buys takeaway food: 0, less than 1, 1 to 3, 4 to 8 or greater than 8\n",
    "\n",
    "Number of times that he/she goes to a coffee house: 0, less than 1, 1 to 3, 4 to 8 or greater than 8\n",
    "\n",
    "Number of times that he/she eats at a restaurant with average expense less than $20 per person: 0, less than 1, 1 to 3, 4 to 8 or greater than 8\n",
    "\n",
    "Number of times that he/she goes to a bar: 0, less than 1, 1 to 3, 4 to 8 or greater than 8\n",
    "\n",
    "\n",
    "\n",
    "#### Contextual attributes\n",
    "\n",
    "Driving destination: home, work, or no urgent destination\n",
    "\n",
    "Location of user, coupon and destination: we provide a map to show the geographical location of the user, destination, and the venue, and we mark the distance between each two places with time of driving. The user can see whether the venue is in the same direction as the destination.\n",
    "\n",
    "Weather: sunny, rainy, or snowy\n",
    "\n",
    "Temperature: 30F, 55F, or 80F\n",
    "\n",
    "Time: 10AM, 2PM, or 6PM\n",
    "\n",
    "Passenger: alone, partner, kid(s), or friend(s)\n",
    "\n",
    "\n",
    "#### Coupon attributes\n",
    "time before it expires: 2 hours or one day"
   ]
  },
  {
   "cell_type": "markdown",
   "id": "3c47a860",
   "metadata": {},
   "source": [
    "## Requirements\n",
    "\n",
    "The project requires the following Python packages:\n",
    "    \n",
    "•\tpandas\n",
    "\n",
    "•\tnumpy\n",
    "\n",
    "•\tmatplotlib\n",
    "\n",
    "•\tseaborn\n",
    "\n",
    "•\tscikit-learn\n",
    "\n",
    "•\tjupyter\n"
   ]
  },
  {
   "cell_type": "markdown",
   "id": "997c5b34",
   "metadata": {},
   "source": [
    "## Usage\n",
    "\n",
    "Data Exploration: Use the notebook 01_Coupon_Acceptance_Rates"
   ]
  },
  {
   "cell_type": "markdown",
   "id": "892413e1",
   "metadata": {},
   "source": [
    "## Executive Summary: Coffee House Coupons\n",
    "\n",
    "This executive summary presents key findings from an analysis of coupon acceptance rates, demographic influences, environmental circumstances, and coupon expiration periods.\n",
    "\n",
    "#### Coupon Acceptance Rates:\n",
    "Coffee House vs. Bar Coupons: The coffee house coupon acceptance rate stands at 49.1%, slightly higher than the bar coupon acceptance rate of 41%.\n",
    "\n",
    "#### Demographic Influences:\n",
    "Gender and Age: Females under 26 show higher acceptance rates compared to males in the same age group. Age is a more pivotal factor than gender in determining coupon acceptance.\n",
    "\n",
    "#### Environmental Circumstances:\n",
    "Destination and Time of Day: Drivers are more likely to accept coupons when heading to non-urgent destinations, especially at 10 a.m. and 2 p.m. Weather, particularly sunny conditions, also influences acceptance rates.\n",
    "\n",
    "#### Expiration and Acceptance: \n",
    "Coupons expiring in one day are accepted more frequently compared to those expiring in two hours, regardless of direction.\n",
    "\n",
    "These findings highlight the nuanced factors influencing coffee house coupon acceptance rates, providing valuable insights for marketing and promotional strategies.\n"
   ]
  },
  {
   "cell_type": "markdown",
   "id": "2974da6d",
   "metadata": {},
   "source": [
    "## Executive Summary: Bar Coupons\n",
    "\n",
    "#### Younger Age Group:\n",
    "A significant proportion of coupon acceptance comes from younger respondents, specifically those under the age of 30, with a notable acceptance rate of 59% among those aged 25 or younger who visit bars more than once a month.\n",
    "\n",
    "#### Frequent Bar Visits:\n",
    "Respondents who visit bars more than once a month are more likely to accept coupons, with 48% of all accepted coupons being attributed to this group, particularly if they are under 30.\n",
    "\n",
    "#### Passenger Type:\n",
    "The presence of non-child passengers appears to correlate with higher coupon acceptance rates.\n",
    "\n",
    "#### Marital Status:\n",
    "Respondents who are not widowed are more likely to accept coupons.\n",
    "\n",
    "#### Dining and Income Patterns:\n",
    "A significant portion of coupon acceptors frequently dine at cheap restaurants (4 times or more) and have an annual income of less than $50K.\n",
    "\n",
    "These characteristics suggest that younger, more socially active drivers with lower income levels, who frequently visit bars and inexpensive restaurants, and who often have non-child passengers, are more inclined to accept bar coupons."
   ]
  },
  {
   "cell_type": "markdown",
   "id": "baee43fa",
   "metadata": {},
   "source": [
    "## Contributing\n",
    "\n",
    "Contributions are welcome! Please submit a pull request or open an issue to discuss potential changes."
   ]
  },
  {
   "cell_type": "markdown",
   "id": "329feeb1",
   "metadata": {},
   "source": [
    "## Contact\n",
    "For any question of inquiries, please contact:\n",
    "\n",
    "•\tName: Agne K Flores\n",
    "\n",
    "•\tEmail: agne.karaziejute@gmail.com\n"
   ]
  },
  {
   "cell_type": "code",
   "execution_count": null,
   "id": "a8513796",
   "metadata": {},
   "outputs": [],
   "source": []
  }
 ],
 "metadata": {
  "kernelspec": {
   "display_name": "Python 3 (ipykernel)",
   "language": "python",
   "name": "python3"
  },
  "language_info": {
   "codemirror_mode": {
    "name": "ipython",
    "version": 3
   },
   "file_extension": ".py",
   "mimetype": "text/x-python",
   "name": "python",
   "nbconvert_exporter": "python",
   "pygments_lexer": "ipython3",
   "version": "3.9.13"
  }
 },
 "nbformat": 4,
 "nbformat_minor": 5
}
