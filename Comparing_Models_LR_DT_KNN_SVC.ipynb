{
 "cells": [
  {
   "cell_type": "markdown",
   "metadata": {},
   "source": [
    "## Comparing Classification Models\n",
    "\n",
    "In the case of classification models, there are at least three things to consider:\n",
    "\n",
    "1. Is the model good at handling imbalanced classes?\n",
    "2. Does the model train quickly?\n",
    "3. Does the model yield interpretable results?\n",
    "\n",
    "Depending on dataset and goals, the importance of these considerations will vary from project to project.This notebook will review Logistic Regression, Decision Trees, KNN, and SVM models and discuss the pros and cons of each.  Two example datasets are used to offer two very different tasks where interpretability of the model may be of differing importance."
   ]
  },
  {
   "cell_type": "markdown",
   "metadata": {},
   "source": [
    "\n",
    "### Part 1: Predicting Churn with Imbalanced Target Data\n",
    "\n",
    "Suppose you are tasked with producing a model to predict customer churn.  Which of your classification models would you use and what are the pros and cons of this model for this task?  The notebook will consider interpretability, imbalnced classes, and the speed of training.\n"
   ]
  },
  {
   "cell_type": "code",
   "execution_count": 1,
   "metadata": {},
   "outputs": [],
   "source": [
    "import pandas as pd\n",
    "import matplotlib.pyplot as plt"
   ]
  },
  {
   "cell_type": "code",
   "execution_count": 2,
   "metadata": {},
   "outputs": [],
   "source": [
    "from sklearn.datasets import load_digits"
   ]
  },
  {
   "cell_type": "code",
   "execution_count": 14,
   "metadata": {},
   "outputs": [],
   "source": [
    "from sklearn.model_selection import train_test_split\n",
    "from sklearn.preprocessing import StandardScaler\n",
    "from sklearn.linear_model import LogisticRegression\n",
    "from sklearn.tree import DecisionTreeClassifier\n",
    "from sklearn.neighbors import KNeighborsClassifier\n",
    "from sklearn.svm import SVC\n",
    "from sklearn.metrics import classification_report, confusion_matrix"
   ]
  },
  {
   "cell_type": "code",
   "execution_count": 3,
   "metadata": {},
   "outputs": [],
   "source": [
    "#Load the data\n",
    "churn = pd.read_csv(r'C:\\Users\\agnek\\OneDrive\\Documents\\Educational_Training Materials\\Berkeley Haas\\Codio\\Module16\\telecom_churn.csv')"
   ]
  },
  {
   "cell_type": "code",
   "execution_count": 5,
   "metadata": {
    "scrolled": true
   },
   "outputs": [
    {
     "data": {
      "text/html": [
       "<div>\n",
       "<style scoped>\n",
       "    .dataframe tbody tr th:only-of-type {\n",
       "        vertical-align: middle;\n",
       "    }\n",
       "\n",
       "    .dataframe tbody tr th {\n",
       "        vertical-align: top;\n",
       "    }\n",
       "\n",
       "    .dataframe thead th {\n",
       "        text-align: right;\n",
       "    }\n",
       "</style>\n",
       "<table border=\"1\" class=\"dataframe\">\n",
       "  <thead>\n",
       "    <tr style=\"text-align: right;\">\n",
       "      <th></th>\n",
       "      <th>State</th>\n",
       "      <th>Account length</th>\n",
       "      <th>Area code</th>\n",
       "      <th>International plan</th>\n",
       "      <th>Voice mail plan</th>\n",
       "      <th>Number vmail messages</th>\n",
       "      <th>Total day minutes</th>\n",
       "      <th>Total day calls</th>\n",
       "      <th>Total day charge</th>\n",
       "      <th>Total eve minutes</th>\n",
       "      <th>Total eve calls</th>\n",
       "      <th>Total eve charge</th>\n",
       "      <th>Total night minutes</th>\n",
       "      <th>Total night calls</th>\n",
       "      <th>Total night charge</th>\n",
       "      <th>Total intl minutes</th>\n",
       "      <th>Total intl calls</th>\n",
       "      <th>Total intl charge</th>\n",
       "      <th>Customer service calls</th>\n",
       "      <th>Churn</th>\n",
       "    </tr>\n",
       "  </thead>\n",
       "  <tbody>\n",
       "    <tr>\n",
       "      <th>0</th>\n",
       "      <td>KS</td>\n",
       "      <td>128</td>\n",
       "      <td>415</td>\n",
       "      <td>No</td>\n",
       "      <td>Yes</td>\n",
       "      <td>25</td>\n",
       "      <td>265.1</td>\n",
       "      <td>110</td>\n",
       "      <td>45.07</td>\n",
       "      <td>197.4</td>\n",
       "      <td>99</td>\n",
       "      <td>16.78</td>\n",
       "      <td>244.7</td>\n",
       "      <td>91</td>\n",
       "      <td>11.01</td>\n",
       "      <td>10.0</td>\n",
       "      <td>3</td>\n",
       "      <td>2.70</td>\n",
       "      <td>1</td>\n",
       "      <td>False</td>\n",
       "    </tr>\n",
       "    <tr>\n",
       "      <th>1</th>\n",
       "      <td>OH</td>\n",
       "      <td>107</td>\n",
       "      <td>415</td>\n",
       "      <td>No</td>\n",
       "      <td>Yes</td>\n",
       "      <td>26</td>\n",
       "      <td>161.6</td>\n",
       "      <td>123</td>\n",
       "      <td>27.47</td>\n",
       "      <td>195.5</td>\n",
       "      <td>103</td>\n",
       "      <td>16.62</td>\n",
       "      <td>254.4</td>\n",
       "      <td>103</td>\n",
       "      <td>11.45</td>\n",
       "      <td>13.7</td>\n",
       "      <td>3</td>\n",
       "      <td>3.70</td>\n",
       "      <td>1</td>\n",
       "      <td>False</td>\n",
       "    </tr>\n",
       "    <tr>\n",
       "      <th>2</th>\n",
       "      <td>NJ</td>\n",
       "      <td>137</td>\n",
       "      <td>415</td>\n",
       "      <td>No</td>\n",
       "      <td>No</td>\n",
       "      <td>0</td>\n",
       "      <td>243.4</td>\n",
       "      <td>114</td>\n",
       "      <td>41.38</td>\n",
       "      <td>121.2</td>\n",
       "      <td>110</td>\n",
       "      <td>10.30</td>\n",
       "      <td>162.6</td>\n",
       "      <td>104</td>\n",
       "      <td>7.32</td>\n",
       "      <td>12.2</td>\n",
       "      <td>5</td>\n",
       "      <td>3.29</td>\n",
       "      <td>0</td>\n",
       "      <td>False</td>\n",
       "    </tr>\n",
       "    <tr>\n",
       "      <th>3</th>\n",
       "      <td>OH</td>\n",
       "      <td>84</td>\n",
       "      <td>408</td>\n",
       "      <td>Yes</td>\n",
       "      <td>No</td>\n",
       "      <td>0</td>\n",
       "      <td>299.4</td>\n",
       "      <td>71</td>\n",
       "      <td>50.90</td>\n",
       "      <td>61.9</td>\n",
       "      <td>88</td>\n",
       "      <td>5.26</td>\n",
       "      <td>196.9</td>\n",
       "      <td>89</td>\n",
       "      <td>8.86</td>\n",
       "      <td>6.6</td>\n",
       "      <td>7</td>\n",
       "      <td>1.78</td>\n",
       "      <td>2</td>\n",
       "      <td>False</td>\n",
       "    </tr>\n",
       "    <tr>\n",
       "      <th>4</th>\n",
       "      <td>OK</td>\n",
       "      <td>75</td>\n",
       "      <td>415</td>\n",
       "      <td>Yes</td>\n",
       "      <td>No</td>\n",
       "      <td>0</td>\n",
       "      <td>166.7</td>\n",
       "      <td>113</td>\n",
       "      <td>28.34</td>\n",
       "      <td>148.3</td>\n",
       "      <td>122</td>\n",
       "      <td>12.61</td>\n",
       "      <td>186.9</td>\n",
       "      <td>121</td>\n",
       "      <td>8.41</td>\n",
       "      <td>10.1</td>\n",
       "      <td>3</td>\n",
       "      <td>2.73</td>\n",
       "      <td>3</td>\n",
       "      <td>False</td>\n",
       "    </tr>\n",
       "  </tbody>\n",
       "</table>\n",
       "</div>"
      ],
      "text/plain": [
       "  State  Account length  Area code International plan Voice mail plan  \\\n",
       "0    KS             128        415                 No             Yes   \n",
       "1    OH             107        415                 No             Yes   \n",
       "2    NJ             137        415                 No              No   \n",
       "3    OH              84        408                Yes              No   \n",
       "4    OK              75        415                Yes              No   \n",
       "\n",
       "   Number vmail messages  Total day minutes  Total day calls  \\\n",
       "0                     25              265.1              110   \n",
       "1                     26              161.6              123   \n",
       "2                      0              243.4              114   \n",
       "3                      0              299.4               71   \n",
       "4                      0              166.7              113   \n",
       "\n",
       "   Total day charge  Total eve minutes  Total eve calls  Total eve charge  \\\n",
       "0             45.07              197.4               99             16.78   \n",
       "1             27.47              195.5              103             16.62   \n",
       "2             41.38              121.2              110             10.30   \n",
       "3             50.90               61.9               88              5.26   \n",
       "4             28.34              148.3              122             12.61   \n",
       "\n",
       "   Total night minutes  Total night calls  Total night charge  \\\n",
       "0                244.7                 91               11.01   \n",
       "1                254.4                103               11.45   \n",
       "2                162.6                104                7.32   \n",
       "3                196.9                 89                8.86   \n",
       "4                186.9                121                8.41   \n",
       "\n",
       "   Total intl minutes  Total intl calls  Total intl charge  \\\n",
       "0                10.0                 3               2.70   \n",
       "1                13.7                 3               3.70   \n",
       "2                12.2                 5               3.29   \n",
       "3                 6.6                 7               1.78   \n",
       "4                10.1                 3               2.73   \n",
       "\n",
       "   Customer service calls  Churn  \n",
       "0                       1  False  \n",
       "1                       1  False  \n",
       "2                       0  False  \n",
       "3                       2  False  \n",
       "4                       3  False  "
      ]
     },
     "execution_count": 5,
     "metadata": {},
     "output_type": "execute_result"
    }
   ],
   "source": [
    "#churn data\n",
    "churn.head()"
   ]
  },
  {
   "cell_type": "code",
   "execution_count": 6,
   "metadata": {},
   "outputs": [
    {
     "name": "stdout",
     "output_type": "stream",
     "text": [
      "<class 'pandas.core.frame.DataFrame'>\n",
      "RangeIndex: 3333 entries, 0 to 3332\n",
      "Data columns (total 20 columns):\n",
      " #   Column                  Non-Null Count  Dtype  \n",
      "---  ------                  --------------  -----  \n",
      " 0   State                   3333 non-null   object \n",
      " 1   Account length          3333 non-null   int64  \n",
      " 2   Area code               3333 non-null   int64  \n",
      " 3   International plan      3333 non-null   object \n",
      " 4   Voice mail plan         3333 non-null   object \n",
      " 5   Number vmail messages   3333 non-null   int64  \n",
      " 6   Total day minutes       3333 non-null   float64\n",
      " 7   Total day calls         3333 non-null   int64  \n",
      " 8   Total day charge        3333 non-null   float64\n",
      " 9   Total eve minutes       3333 non-null   float64\n",
      " 10  Total eve calls         3333 non-null   int64  \n",
      " 11  Total eve charge        3333 non-null   float64\n",
      " 12  Total night minutes     3333 non-null   float64\n",
      " 13  Total night calls       3333 non-null   int64  \n",
      " 14  Total night charge      3333 non-null   float64\n",
      " 15  Total intl minutes      3333 non-null   float64\n",
      " 16  Total intl calls        3333 non-null   int64  \n",
      " 17  Total intl charge       3333 non-null   float64\n",
      " 18  Customer service calls  3333 non-null   int64  \n",
      " 19  Churn                   3333 non-null   bool   \n",
      "dtypes: bool(1), float64(8), int64(8), object(3)\n",
      "memory usage: 498.1+ KB\n"
     ]
    }
   ],
   "source": [
    "churn.info()"
   ]
  },
  {
   "cell_type": "code",
   "execution_count": 8,
   "metadata": {},
   "outputs": [
    {
     "name": "stdout",
     "output_type": "stream",
     "text": [
      "Class counts:\n",
      " False    2850\n",
      "True      483\n",
      "Name: Churn, dtype: int64\n"
     ]
    },
    {
     "data": {
      "image/png": "[encoded data removed]",
      "text/plain": [
       "<Figure size 800x600 with 1 Axes>"
      ]
     },
     "metadata": {},
     "output_type": "display_data"
    },
    {
     "name": "stdout",
     "output_type": "stream",
     "text": [
      "Class proportions:\n",
      " False    0.855086\n",
      "True     0.144914\n",
      "Name: Churn, dtype: float64\n"
     ]
    }
   ],
   "source": [
    "# Examine the target variable\n",
    "class_counts = churn['Churn'].value_counts()\n",
    "print(\"Class counts:\\n\", class_counts)\n",
    "\n",
    "# Visualize the distribution\n",
    "plt.figure(figsize=(8, 6))\n",
    "class_counts.plot(kind='bar', color='skyblue')\n",
    "plt.xlabel('Class')\n",
    "plt.ylabel('Count')\n",
    "plt.title('Class Distribution')\n",
    "plt.show()\n",
    "\n",
    "# Calculate class proportions\n",
    "class_proportions = churn['Churn'].value_counts(normalize=True)\n",
    "print(\"Class proportions:\\n\", class_proportions)"
   ]
  },
  {
   "cell_type": "code",
   "execution_count": 7,
   "metadata": {},
   "outputs": [
    {
     "name": "stdout",
     "output_type": "stream",
     "text": [
      "['State', 'Account length', 'Area code', 'International plan', 'Voice mail plan', 'Number vmail messages', 'Total day minutes', 'Total day calls', 'Total day charge', 'Total eve minutes', 'Total eve calls', 'Total eve charge', 'Total night minutes', 'Total night calls', 'Total night charge', 'Total intl minutes', 'Total intl calls', 'Total intl charge', 'Customer service calls', 'Churn']\n"
     ]
    }
   ],
   "source": [
    "column_names_list = churn.columns.tolist()\n",
    "print(column_names_list)"
   ]
  },
  {
   "cell_type": "code",
   "execution_count": 9,
   "metadata": {},
   "outputs": [],
   "source": [
    "# Convert Churn column from True/False to 1/0\n",
    "churn['Churn'] = churn['Churn'].astype(int)"
   ]
  },
  {
   "cell_type": "code",
   "execution_count": 13,
   "metadata": {
    "scrolled": true
   },
   "outputs": [
    {
     "data": {
      "text/html": [
       "<div>\n",
       "<style scoped>\n",
       "    .dataframe tbody tr th:only-of-type {\n",
       "        vertical-align: middle;\n",
       "    }\n",
       "\n",
       "    .dataframe tbody tr th {\n",
       "        vertical-align: top;\n",
       "    }\n",
       "\n",
       "    .dataframe thead th {\n",
       "        text-align: right;\n",
       "    }\n",
       "</style>\n",
       "<table border=\"1\" class=\"dataframe\">\n",
       "  <thead>\n",
       "    <tr style=\"text-align: right;\">\n",
       "      <th></th>\n",
       "      <th>Account length</th>\n",
       "      <th>International plan</th>\n",
       "      <th>Voice mail plan</th>\n",
       "      <th>Number vmail messages</th>\n",
       "      <th>Total day minutes</th>\n",
       "      <th>Total day calls</th>\n",
       "      <th>Total day charge</th>\n",
       "      <th>Total eve minutes</th>\n",
       "      <th>Total eve calls</th>\n",
       "      <th>Total eve charge</th>\n",
       "      <th>...</th>\n",
       "      <th>State_UT</th>\n",
       "      <th>State_VA</th>\n",
       "      <th>State_VT</th>\n",
       "      <th>State_WA</th>\n",
       "      <th>State_WI</th>\n",
       "      <th>State_WV</th>\n",
       "      <th>State_WY</th>\n",
       "      <th>Area code_408</th>\n",
       "      <th>Area code_415</th>\n",
       "      <th>Area code_510</th>\n",
       "    </tr>\n",
       "  </thead>\n",
       "  <tbody>\n",
       "    <tr>\n",
       "      <th>0</th>\n",
       "      <td>128</td>\n",
       "      <td>0</td>\n",
       "      <td>0</td>\n",
       "      <td>25</td>\n",
       "      <td>265.1</td>\n",
       "      <td>110</td>\n",
       "      <td>45.07</td>\n",
       "      <td>197.4</td>\n",
       "      <td>99</td>\n",
       "      <td>16.78</td>\n",
       "      <td>...</td>\n",
       "      <td>0</td>\n",
       "      <td>0</td>\n",
       "      <td>0</td>\n",
       "      <td>0</td>\n",
       "      <td>0</td>\n",
       "      <td>0</td>\n",
       "      <td>0</td>\n",
       "      <td>0</td>\n",
       "      <td>1</td>\n",
       "      <td>0</td>\n",
       "    </tr>\n",
       "    <tr>\n",
       "      <th>1</th>\n",
       "      <td>107</td>\n",
       "      <td>0</td>\n",
       "      <td>0</td>\n",
       "      <td>26</td>\n",
       "      <td>161.6</td>\n",
       "      <td>123</td>\n",
       "      <td>27.47</td>\n",
       "      <td>195.5</td>\n",
       "      <td>103</td>\n",
       "      <td>16.62</td>\n",
       "      <td>...</td>\n",
       "      <td>0</td>\n",
       "      <td>0</td>\n",
       "      <td>0</td>\n",
       "      <td>0</td>\n",
       "      <td>0</td>\n",
       "      <td>0</td>\n",
       "      <td>0</td>\n",
       "      <td>0</td>\n",
       "      <td>1</td>\n",
       "      <td>0</td>\n",
       "    </tr>\n",
       "    <tr>\n",
       "      <th>2</th>\n",
       "      <td>137</td>\n",
       "      <td>0</td>\n",
       "      <td>0</td>\n",
       "      <td>0</td>\n",
       "      <td>243.4</td>\n",
       "      <td>114</td>\n",
       "      <td>41.38</td>\n",
       "      <td>121.2</td>\n",
       "      <td>110</td>\n",
       "      <td>10.30</td>\n",
       "      <td>...</td>\n",
       "      <td>0</td>\n",
       "      <td>0</td>\n",
       "      <td>0</td>\n",
       "      <td>0</td>\n",
       "      <td>0</td>\n",
       "      <td>0</td>\n",
       "      <td>0</td>\n",
       "      <td>0</td>\n",
       "      <td>1</td>\n",
       "      <td>0</td>\n",
       "    </tr>\n",
       "    <tr>\n",
       "      <th>3</th>\n",
       "      <td>84</td>\n",
       "      <td>0</td>\n",
       "      <td>0</td>\n",
       "      <td>0</td>\n",
       "      <td>299.4</td>\n",
       "      <td>71</td>\n",
       "      <td>50.90</td>\n",
       "      <td>61.9</td>\n",
       "      <td>88</td>\n",
       "      <td>5.26</td>\n",
       "      <td>...</td>\n",
       "      <td>0</td>\n",
       "      <td>0</td>\n",
       "      <td>0</td>\n",
       "      <td>0</td>\n",
       "      <td>0</td>\n",
       "      <td>0</td>\n",
       "      <td>0</td>\n",
       "      <td>1</td>\n",
       "      <td>0</td>\n",
       "      <td>0</td>\n",
       "    </tr>\n",
       "    <tr>\n",
       "      <th>4</th>\n",
       "      <td>75</td>\n",
       "      <td>0</td>\n",
       "      <td>0</td>\n",
       "      <td>0</td>\n",
       "      <td>166.7</td>\n",
       "      <td>113</td>\n",
       "      <td>28.34</td>\n",
       "      <td>148.3</td>\n",
       "      <td>122</td>\n",
       "      <td>12.61</td>\n",
       "      <td>...</td>\n",
       "      <td>0</td>\n",
       "      <td>0</td>\n",
       "      <td>0</td>\n",
       "      <td>0</td>\n",
       "      <td>0</td>\n",
       "      <td>0</td>\n",
       "      <td>0</td>\n",
       "      <td>0</td>\n",
       "      <td>1</td>\n",
       "      <td>0</td>\n",
       "    </tr>\n",
       "  </tbody>\n",
       "</table>\n",
       "<p>5 rows × 72 columns</p>\n",
       "</div>"
      ],
      "text/plain": [
       "   Account length  International plan  Voice mail plan  Number vmail messages  \\\n",
       "0             128                   0                0                     25   \n",
       "1             107                   0                0                     26   \n",
       "2             137                   0                0                      0   \n",
       "3              84                   0                0                      0   \n",
       "4              75                   0                0                      0   \n",
       "\n",
       "   Total day minutes  Total day calls  Total day charge  Total eve minutes  \\\n",
       "0              265.1              110             45.07              197.4   \n",
       "1              161.6              123             27.47              195.5   \n",
       "2              243.4              114             41.38              121.2   \n",
       "3              299.4               71             50.90               61.9   \n",
       "4              166.7              113             28.34              148.3   \n",
       "\n",
       "   Total eve calls  Total eve charge  ...  State_UT  State_VA  State_VT  \\\n",
       "0               99             16.78  ...         0         0         0   \n",
       "1              103             16.62  ...         0         0         0   \n",
       "2              110             10.30  ...         0         0         0   \n",
       "3               88              5.26  ...         0         0         0   \n",
       "4              122             12.61  ...         0         0         0   \n",
       "\n",
       "   State_WA  State_WI  State_WV  State_WY  Area code_408  Area code_415  \\\n",
       "0         0         0         0         0              0              1   \n",
       "1         0         0         0         0              0              1   \n",
       "2         0         0         0         0              0              1   \n",
       "3         0         0         0         0              1              0   \n",
       "4         0         0         0         0              0              1   \n",
       "\n",
       "   Area code_510  \n",
       "0              0  \n",
       "1              0  \n",
       "2              0  \n",
       "3              0  \n",
       "4              0  \n",
       "\n",
       "[5 rows x 72 columns]"
      ]
     },
     "execution_count": 13,
     "metadata": {},
     "output_type": "execute_result"
    }
   ],
   "source": [
    "# Define the binary columns\n",
    "binary_columns = ['International plan', 'Voice mail plan']\n",
    "\n",
    "# Convert binary Yes/No columns to binary 0/1\n",
    "churn[binary_columns] = churn[binary_columns].applymap(lambda x: 1 if x == 'Yes' else 0)\n",
    "\n",
    "# One-hot encode non-binary string columns\n",
    "non_binary_string_columns = ['State', 'Area code']\n",
    "churn_encoded = pd.get_dummies(churn, columns=non_binary_string_columns)\n",
    "\n",
    "# Display the DataFrame\n",
    "churn_encoded.head()"
   ]
  },
  {
   "cell_type": "code",
   "execution_count": 15,
   "metadata": {},
   "outputs": [],
   "source": [
    "# Split the data into training and testing sets\n",
    "X = churn_encoded.drop('Churn', axis=1)\n",
    "y = churn_encoded['Churn']\n",
    "X_train, X_test, y_train, y_test = train_test_split(X, y, test_size=0.3, random_state=42, stratify=y)"
   ]
  },
  {
   "cell_type": "code",
   "execution_count": 16,
   "metadata": {},
   "outputs": [],
   "source": [
    "# Standardize the features for KNN and SVM\n",
    "scaler = StandardScaler()\n",
    "X_train_scaled = scaler.fit_transform(X_train)\n",
    "X_test_scaled = scaler.transform(X_test)"
   ]
  },
  {
   "cell_type": "markdown",
   "metadata": {},
   "source": [
    "### Logistic Regression"
   ]
  },
  {
   "cell_type": "code",
   "execution_count": 17,
   "metadata": {},
   "outputs": [
    {
     "name": "stdout",
     "output_type": "stream",
     "text": [
      "Logistic Regression:\n",
      "               precision    recall  f1-score   support\n",
      "\n",
      "           0       0.92      0.66      0.77       855\n",
      "           1       0.25      0.67      0.36       145\n",
      "\n",
      "    accuracy                           0.66      1000\n",
      "   macro avg       0.59      0.66      0.57      1000\n",
      "weighted avg       0.82      0.66      0.71      1000\n",
      "\n",
      "[[564 291]\n",
      " [ 48  97]]\n"
     ]
    },
    {
     "name": "stderr",
     "output_type": "stream",
     "text": [
      "C:\\ProgramData\\Anaconda3\\lib\\site-packages\\sklearn\\linear_model\\_logistic.py:814: ConvergenceWarning: lbfgs failed to converge (status=1):\n",
      "STOP: TOTAL NO. of ITERATIONS REACHED LIMIT.\n",
      "\n",
      "Increase the number of iterations (max_iter) or scale the data as shown in:\n",
      "    https://scikit-learn.org/stable/modules/preprocessing.html\n",
      "Please also refer to the documentation for alternative solver options:\n",
      "    https://scikit-learn.org/stable/modules/linear_model.html#logistic-regression\n",
      "  n_iter_i = _check_optimize_result(\n"
     ]
    }
   ],
   "source": [
    "# Run Logistic Regression\n",
    "lr_model = LogisticRegression(class_weight='balanced', random_state=42) #class_weight='balanced': This parameter adjusts the \n",
    "#weights of the classes inversely proportional to their frequencies, which helps in dealing with imbalanced classes.\n",
    "lr_model.fit(X_train, y_train)\n",
    "lr_pred = lr_model.predict(X_test)\n",
    "print(\"Logistic Regression:\\n\", classification_report(y_test, lr_pred))\n",
    "print(confusion_matrix(y_test, lr_pred))"
   ]
  },
  {
   "cell_type": "markdown",
   "metadata": {},
   "source": [
    "#### Analysis:\n",
    "Logistic Regression has a moderate overall accuracy of 66%, but the precision for the churn class (class 1) is very low at 25%. While it captures 67% of churn cases (recall), its ability to accurately identify non-churn cases is only moderate."
   ]
  },
  {
   "cell_type": "markdown",
   "metadata": {},
   "source": [
    "### Decision Tree"
   ]
  },
  {
   "cell_type": "code",
   "execution_count": 18,
   "metadata": {},
   "outputs": [
    {
     "name": "stdout",
     "output_type": "stream",
     "text": [
      "Decision Tree:\n",
      "               precision    recall  f1-score   support\n",
      "\n",
      "           0       0.92      0.90      0.91       855\n",
      "           1       0.47      0.54      0.50       145\n",
      "\n",
      "    accuracy                           0.84      1000\n",
      "   macro avg       0.70      0.72      0.71      1000\n",
      "weighted avg       0.86      0.84      0.85      1000\n",
      "\n",
      "[[766  89]\n",
      " [ 66  79]]\n"
     ]
    }
   ],
   "source": [
    "# Run Decision Tree\n",
    "dt_model = DecisionTreeClassifier(class_weight='balanced', random_state=42)\n",
    "dt_model.fit(X_train, y_train)\n",
    "dt_pred = dt_model.predict(X_test)\n",
    "print(\"Decision Tree:\\n\", classification_report(y_test, dt_pred))\n",
    "print(confusion_matrix(y_test, dt_pred))"
   ]
  },
  {
   "cell_type": "markdown",
   "metadata": {},
   "source": [
    "#### Analysis\n",
    "\n",
    "The Decision Tree has a higher accuracy (84%) and better precision and recall for the churn class compared to Logistic Regression. It has a good balance between precision and recall, but the performance for the churn class (class 1) is still moderate."
   ]
  },
  {
   "cell_type": "markdown",
   "metadata": {},
   "source": [
    "### KNN"
   ]
  },
  {
   "cell_type": "code",
   "execution_count": 19,
   "metadata": {},
   "outputs": [
    {
     "name": "stdout",
     "output_type": "stream",
     "text": [
      "K-Nearest Neighbors:\n",
      "               precision    recall  f1-score   support\n",
      "\n",
      "           0       0.86      0.99      0.92       855\n",
      "           1       0.53      0.06      0.11       145\n",
      "\n",
      "    accuracy                           0.86      1000\n",
      "   macro avg       0.70      0.53      0.52      1000\n",
      "weighted avg       0.81      0.86      0.80      1000\n",
      "\n",
      "[[847   8]\n",
      " [136   9]]\n"
     ]
    },
    {
     "name": "stderr",
     "output_type": "stream",
     "text": [
      "C:\\ProgramData\\Anaconda3\\lib\\site-packages\\sklearn\\neighbors\\_classification.py:228: FutureWarning: Unlike other reduction functions (e.g. `skew`, `kurtosis`), the default behavior of `mode` typically preserves the axis it acts along. In SciPy 1.11.0, this behavior will change: the default value of `keepdims` will become False, the `axis` over which the statistic is taken will be eliminated, and the value None will no longer be accepted. Set `keepdims` to True or False to avoid this warning.\n",
      "  mode, _ = stats.mode(_y[neigh_ind, k], axis=1)\n"
     ]
    }
   ],
   "source": [
    "# Run K-Nearest Neighbors\n",
    "knn_model = KNeighborsClassifier()\n",
    "knn_model.fit(X_train_scaled, y_train)\n",
    "knn_pred = knn_model.predict(X_test_scaled)\n",
    "print(\"K-Nearest Neighbors:\\n\", classification_report(y_test, knn_pred))\n",
    "print(confusion_matrix(y_test, knn_pred))"
   ]
  },
  {
   "cell_type": "markdown",
   "metadata": {},
   "source": [
    "#### Analysis\n",
    "\n",
    "KNN has a high overall accuracy (86%), but it performs poorly on the churn class, with very low recall (0.06) and F1-score (0.11). It is extremely biased towards the majority class (not churned)."
   ]
  },
  {
   "cell_type": "markdown",
   "metadata": {},
   "source": [
    "### Support Vector Machine"
   ]
  },
  {
   "cell_type": "code",
   "execution_count": 20,
   "metadata": {},
   "outputs": [
    {
     "name": "stdout",
     "output_type": "stream",
     "text": [
      "Support Vector Machine:\n",
      "               precision    recall  f1-score   support\n",
      "\n",
      "           0       0.92      0.82      0.87       855\n",
      "           1       0.35      0.58      0.44       145\n",
      "\n",
      "    accuracy                           0.79      1000\n",
      "   macro avg       0.64      0.70      0.65      1000\n",
      "weighted avg       0.84      0.79      0.80      1000\n",
      "\n",
      "[[701 154]\n",
      " [ 61  84]]\n"
     ]
    }
   ],
   "source": [
    "# Run Support Vector Machine\n",
    "svm_model = SVC(class_weight='balanced', random_state=42)\n",
    "svm_model.fit(X_train_scaled, y_train)\n",
    "svm_pred = svm_model.predict(X_test_scaled)\n",
    "print(\"Support Vector Machine:\\n\", classification_report(y_test, svm_pred))\n",
    "print(confusion_matrix(y_test, svm_pred))"
   ]
  },
  {
   "cell_type": "markdown",
   "metadata": {},
   "source": [
    "#### Analysis\n",
    "\n",
    "SVM has an accuracy of 79% and strikes a balance between precision and recall for the churn class, although the precision for the churn class is still relatively low (0.35). It shows better performance on class 1 compared to KNN and Logistic Regression."
   ]
  },
  {
   "cell_type": "markdown",
   "metadata": {},
   "source": [
    "### Conclusion\n",
    "\n",
    "Decision Tree is the best model in this case due to its higher overall accuracy (84%), balanced precision, and recall for the churn class. It provides a good trade-off between handling imbalanced classes, interpretability, and speed of training."
   ]
  },
  {
   "cell_type": "markdown",
   "metadata": {},
   "source": [
    "### Further Discussion of Classification Models\n",
    "\n",
    "1. Logistic Regression\n",
    "\n",
    "#### Pros:\n",
    "\n",
    "Interpretable Results: Logistic Regression provides coefficients for each feature, making it easy to interpret the impact of each feature on the prediction.\n",
    "\n",
    "Speed of Training: It trains relatively quickly even on large datasets.\n",
    "\n",
    "Handling Imbalanced Classes: Logistic Regression can be modified to handle imbalanced classes by using class weights or threshold tuning.\n",
    "\n",
    "#### Cons:\n",
    "\n",
    "Non-linear Relationships: It struggles with capturing non-linear relationships unless features are transformed.\n",
    "Performance: May not perform as well as more complex models on certain datasets.\n",
    "\n",
    "2. Decision Trees\n",
    "\n",
    "#### Pros:\n",
    "\n",
    "Interpretable Results: Decision Trees are highly interpretable as the decision-making process can be visualized.\n",
    "\n",
    "Speed of Training: Generally quick to train and easy to understand.\n",
    "\n",
    "Handling Imbalanced Classes: Can handle imbalanced classes using techniques like class weights, although not inherently designed for it.\n",
    "\n",
    "#### Cons:\n",
    "\n",
    "Overfitting: Prone to overfitting, especially with deep trees.\n",
    "\n",
    "Instability: Small changes in data can result in very different trees.\n",
    "\n",
    "3. K-Nearest Neighbors (KNN)\n",
    "\n",
    "#### Pros:\n",
    "\n",
    "Simplicity: Simple to understand and implement.\n",
    "\n",
    "No Training Time: As a lazy learner, it has no training phase, only a prediction phase.\n",
    "\n",
    "#### Cons:\n",
    "\n",
    "Handling Imbalanced Classes: Poor at handling imbalanced classes, as the majority class can dominate the predictions.\n",
    "\n",
    "Speed of Prediction: Slow prediction time, especially with large datasets.\n",
    "\n",
    "Interpretability: Not very interpretable as it’s hard to understand why a particular prediction was made.\n",
    "\n",
    "4. Support Vector Machines (SVM)\n",
    "\n",
    "#### Pros:\n",
    "\n",
    "Performance: Effective in high-dimensional spaces and works well with clear margin of separation.\n",
    "\n",
    "Handling Imbalanced Classes: Can handle imbalanced classes by adjusting the class weights.\n",
    "\n",
    "#### Cons:\n",
    "\n",
    "Interpretability: Less interpretable compared to Logistic Regression and Decision Trees.\n",
    "\n",
    "Speed of Training: Training can be slow, especially with large datasets.\n",
    "\n",
    "Memory Usage: Can be quite memory-intensive."
   ]
  },
  {
   "cell_type": "markdown",
   "metadata": {},
   "source": [
    "### Part 2: Recognizing Handwritten Digits\n",
    "\n",
    "Suppose you are tasked with training a model to recognize handwritten digits.  Which classifier would you use here and why?  Again, consider the balance of classes, speed of training, and importance of interpretability.\n",
    "\n"
   ]
  },
  {
   "cell_type": "markdown",
   "metadata": {},
   "source": [
    "In the context of recognizing handwritten digits, we typically deal with balanced classes (each digit from 0 to 9 should ideally have similar representation). The dataset used for this task is often the MNIST dataset, which contains 60,000 training images and 10,000 testing images."
   ]
  },
  {
   "cell_type": "code",
   "execution_count": 21,
   "metadata": {},
   "outputs": [],
   "source": [
    "#Import essential libraries if havent done so before\n",
    "import numpy as np\n",
    "import matplotlib.pyplot as plt\n",
    "from sklearn import datasets, svm, metrics\n",
    "from sklearn.model_selection import train_test_split"
   ]
  },
  {
   "cell_type": "code",
   "execution_count": null,
   "metadata": {},
   "outputs": [],
   "source": [
    "# Load the digits dataset\n",
    "digits = datasets.load_digits()"
   ]
  },
  {
   "cell_type": "code",
   "execution_count": 5,
   "metadata": {},
   "outputs": [
    {
     "data": {
      "image/png": "[encoded data removed]",
      "text/plain": [
       "<Figure size 640x480 with 1 Axes>"
      ]
     },
     "metadata": {},
     "output_type": "display_data"
    }
   ],
   "source": [
    "#Example image\n",
    "plt.imshow(digits[0].reshape(8, 8))\n",
    "plt.title('This is a handwritten 0.');"
   ]
  },
  {
   "cell_type": "code",
   "execution_count": null,
   "metadata": {},
   "outputs": [],
   "source": [
    "# Flatten the images\n",
    "n_samples = len(digits.images)\n",
    "data = digits.images.reshape((n_samples, -1))"
   ]
  },
  {
   "cell_type": "markdown",
   "metadata": {},
   "source": [
    "#### Code Overview\n",
    "\n",
    "In the context of image processing and machine learning, \"flattening the images\" refers to the process of converting a multi-dimensional array representing an image into a one-dimensional array (vector). This transformation is often necessary because many machine learning algorithms require input data to be in a flat, tabular format rather than in a multi-dimensional format.\n",
    "\n",
    "digits.images: \n",
    "This attribute of the dataset is a 3D array where each image is a 2D array of pixel values.\n",
    "\n",
    "len(digits.images): \n",
    "This computes the number of samples (images) in the dataset and stores it in the variable n_samples.\n",
    "\n",
    "digits.images: \n",
    "This is a 3D array of shape (n_samples, height, width).\n",
    "\n",
    "reshape((n_samples, -1)): \n",
    "The reshape method is used to transform the 3D array into a 2D array. Here, -1 is a placeholder that tells NumPy to infer the size of the second dimension based on the number of samples and the total number of elements. This effectively flattens each 2D image (of shape (height, width)) into a 1D array (vector) of length height * width.\n",
    "\n",
    "The resulting data will be a 2D array of shape (n_samples, height * width), where each row represents a flattened image"
   ]
  },
  {
   "cell_type": "code",
   "execution_count": 22,
   "metadata": {},
   "outputs": [
    {
     "name": "stdout",
     "output_type": "stream",
     "text": [
      "Classification report for classifier SVC(gamma=0.001):\n",
      "              precision    recall  f1-score   support\n",
      "\n",
      "           0       1.00      0.99      0.99        88\n",
      "           1       0.99      0.97      0.98        91\n",
      "           2       0.99      0.99      0.99        86\n",
      "           3       0.98      0.87      0.92        91\n",
      "           4       0.99      0.96      0.97        92\n",
      "           5       0.95      0.97      0.96        91\n",
      "           6       0.99      0.99      0.99        91\n",
      "           7       0.96      0.99      0.97        89\n",
      "           8       0.94      1.00      0.97        88\n",
      "           9       0.93      0.98      0.95        92\n",
      "\n",
      "    accuracy                           0.97       899\n",
      "   macro avg       0.97      0.97      0.97       899\n",
      "weighted avg       0.97      0.97      0.97       899\n",
      "\n",
      "\n",
      "Confusion matrix:\n",
      "[[87  0  0  0  1  0  0  0  0  0]\n",
      " [ 0 88  1  0  0  0  0  0  1  1]\n",
      " [ 0  0 85  1  0  0  0  0  0  0]\n",
      " [ 0  0  0 79  0  3  0  4  5  0]\n",
      " [ 0  0  0  0 88  0  0  0  0  4]\n",
      " [ 0  0  0  0  0 88  1  0  0  2]\n",
      " [ 0  1  0  0  0  0 90  0  0  0]\n",
      " [ 0  0  0  0  0  1  0 88  0  0]\n",
      " [ 0  0  0  0  0  0  0  0 88  0]\n",
      " [ 0  0  0  1  0  1  0  0  0 90]]\n"
     ]
    },
    {
     "data": {
      "image/png": "[encoded data removed]",
      "text/plain": [
       "<Figure size 640x480 with 4 Axes>"
      ]
     },
     "metadata": {},
     "output_type": "display_data"
    }
   ],
   "source": [
    "\n",
    "# Split data into 50% train and 50% test subsets\n",
    "X_train, X_test, y_train, y_test = train_test_split(data, digits.target, test_size=0.5, shuffle=False)\n",
    "\n",
    "# Create a classifier: a support vector classifier\n",
    "classifier = svm.SVC(gamma=0.001, kernel='rbf')\n",
    "\n",
    "# We learn the digits on the train subset\n",
    "classifier.fit(X_train, y_train)\n",
    "\n",
    "# Predict the value of the digit on the test subset\n",
    "predicted = classifier.predict(X_test)\n",
    "\n",
    "# Print classification report\n",
    "print(\"Classification report for classifier %s:\\n%s\\n\"\n",
    "      % (classifier, metrics.classification_report(y_test, predicted)))\n",
    "\n",
    "# Print confusion matrix\n",
    "print(\"Confusion matrix:\\n%s\" % metrics.confusion_matrix(y_test, predicted))\n",
    "\n",
    "# Plot some of the test images with their predicted values\n",
    "images_and_predictions = list(zip(digits.images[n_samples // 2:], predicted))\n",
    "for index, (image, prediction) in enumerate(images_and_predictions[:4]):\n",
    "    plt.subplot(2, 4, index + 1)\n",
    "    plt.axis('off')\n",
    "    plt.imshow(image, cmap=plt.cm.gray_r, interpolation='nearest')\n",
    "    plt.title('Prediction: %i' % prediction)\n",
    "\n",
    "plt.show()"
   ]
  },
  {
   "cell_type": "markdown",
   "metadata": {},
   "source": [
    "### Discussion of SVC Results\n",
    "#### Classification Report\n",
    "Precision: The precision for most classes is very high, with values close to or at 1.00. This indicates that the SVM classifier makes very few false positive predictions across the board.\n",
    "\n",
    "Recall: Recall values are also very high, with the lowest being 0.87 for class 3. This suggests that the classifier is effectively identifying the majority of actual positive cases for each class.\n",
    "\n",
    "F1-Score: The F1-scores, which are the harmonic mean of precision and recall, are also very high, indicating a balanced performance. The lowest F1-score is 0.92 for class 3.\n",
    "\n",
    "Accuracy: The overall accuracy of the classifier is 0.97, which is excellent.\n",
    "\n",
    "Macro Average and Weighted Average: Both the macro average and weighted average precision, recall, and F1-score are 0.97, showing consistent performance across all classes.\n",
    "\n",
    "#### Confusion Matrix\n",
    "True Positives: The diagonal elements of the confusion matrix represent true positives for each class. Most values are very high, showing that the classifier correctly predicts the majority of instances.\n",
    "\n",
    "False Positives and False Negatives: There are very few false positives and false negatives. Class 3 has some confusion with classes 5 and 7, indicating occasional misclassification among these classes.\n",
    "\n",
    "#### Conclusion\n",
    "The SVC model with gamma=0.001 performs exceptionally well on the handwritten digit recognition task, with high precision, recall, and F1-scores across all classes. The overall accuracy is 97%, and the model shows consistent performance as indicated by the macro and weighted averages. While there are minor misclassifications, particularly for class 3, the model's performance is robust and suitable for this task."
   ]
  },
  {
   "cell_type": "markdown",
   "metadata": {},
   "source": [
    "### Further Discussion of Classification Models\n",
    "\n",
    "When choosing a classifier, we need to consider the balance of classes, speed of training, and importance of interpretability.\n",
    "\n",
    "1. Logistic Regression\n",
    "\n",
    "#### Pros:\n",
    "\n",
    "Interpretable Results: Logistic Regression provides coefficients for each feature, making it easy to interpret the impact of each feature on the prediction.\n",
    "\n",
    "Speed of Training: It trains relatively quickly even on large datasets.\n",
    "\n",
    "#### Cons:\n",
    "\n",
    "Handling Imbalanced Classes: Logistic Regression can struggle with imbalanced classes unless modified with class weights.\n",
    "\n",
    "Non-linear Relationships: It struggles with capturing non-linear relationships unless features are transformed.\n",
    "\n",
    "Logistic Regression is typically not the best choice for image recognition tasks due to its linear nature and limited ability to capture complex patterns\n",
    "\n",
    "2. Decision Trees\n",
    "\n",
    "#### Pros:\n",
    "\n",
    "Interpretable Results: Decision Trees are highly interpretable as the decision-making process can be visualized.\n",
    "\n",
    "Speed of Training: Generally quick to train and easy to understand.\n",
    "\n",
    "#### Cons:\n",
    "\n",
    "Handling Imbalanced Classes: Can handle imbalanced classes using techniques like class weights, although not inherently designed for it.\n",
    "\n",
    "Overfitting: Prone to overfitting, especially with deep trees.\n",
    "\n",
    "Instability: Small changes in data can result in very different trees.\n",
    "\n",
    "Applicability: While interpretable and quick to train, Decision Trees can overfit and may not capture the complexity needed for image recognition tasks effectively\n",
    "\n",
    "3. K-Nearest Neighbors (KNN)\n",
    "\n",
    "#### Pros:\n",
    "\n",
    "Simplicity: Simple to understand and implement.\n",
    "\n",
    "No Training Time: As a lazy learner, it has no training phase, only a prediction phase.\n",
    "\n",
    "#### Cons:\n",
    "\n",
    "Handling Imbalanced Classes: Poor at handling imbalanced classes, as the majority class can dominate the predictions.\n",
    "\n",
    "Speed of Prediction: Slow prediction time, especially with large datasets.\n",
    "\n",
    "Interpretability: Not very interpretable as it’s hard to understand why a particular prediction was made.\n",
    "\n",
    "Applicability: KNN can work well for small-scale image recognition tasks but becomes impractical for large datasets due to slow prediction times\n",
    "\n",
    "4. Support Vector Machines (SVM)\n",
    "\n",
    "#### Pros:\n",
    "\n",
    "Performance: Effective in high-dimensional spaces and works well with clear margin of separation.\n",
    "\n",
    "Handling Imbalanced Classes: Can handle imbalanced classes by adjusting the class weights.\n",
    "\n",
    "#### Cons:\n",
    "\n",
    "Interpretability: Less interpretable compared to Logistic Regression and Decision Trees.\n",
    "\n",
    "Speed of Training: Training can be slow, especially with large datasets.\n",
    "\n",
    "Memory Usage: Can be quite memory-intensive.\n",
    "\n",
    "Applicability: SVMs, particularly with non-linear kernels (like RBF), are well-suited for image recognition tasks due to their ability to handle high-dimensional data effectively."
   ]
  },
  {
   "cell_type": "code",
   "execution_count": null,
   "metadata": {},
   "outputs": [],
   "source": []
  }
 ],
 "metadata": {
  "kernelspec": {
   "display_name": "Python 3 (ipykernel)",
   "language": "python",
   "name": "python3"
  },
  "language_info": {
   "codemirror_mode": {
    "name": "ipython",
    "version": 3
   },
   "file_extension": ".py",
   "mimetype": "text/x-python",
   "name": "python",
   "nbconvert_exporter": "python",
   "pygments_lexer": "ipython3",
   "version": "3.9.13"
  }
 },
 "nbformat": 4,
 "nbformat_minor": 4
}
